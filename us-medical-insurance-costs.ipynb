{
 "cells": [
  {
   "cell_type": "markdown",
   "metadata": {},
   "source": [
    "# U.S. Medical Insurance Costs"
   ]
  },
  {
   "cell_type": "markdown",
   "metadata": {},
   "source": [
    "# U.S Medical Insurance Costs Analysis Project\n",
    "\n",
    "Hello,\n",
    "\n",
    "My name is Josef and I am going to analyze a real dataset of U.S. Medical Insurance Costs provided by Codecademy.\n",
    "\n",
    "Let us begin!\n",
    "\n",
    "## Extract CSV file\n",
    "1. Insurance.csv will be opened and then processed into a clean list."
   ]
  },
  {
   "cell_type": "code",
   "execution_count": 104,
   "metadata": {},
   "outputs": [],
   "source": [
    "# open insurance.csv \n",
    "with open(\"insurance.csv\") as insurance_csv:\n",
    "    raw_insurance_csv = insurance_csv.readlines()\n",
    "\n",
    "# cleanup data and remove the first element in the list\n",
    "insurance_list = []\n",
    "for item in raw_insurance_csv:\n",
    "    item1 = item.strip(\"\\n\")\n",
    "    item2 = item1.split(\",\")\n",
    "    insurance_list.append(item2)\n",
    "del insurance_list[0]\n",
    "\n",
    "# convert string numbers into integers data type\n",
    "for item in insurance_list:\n",
    "    item[0] = int(item[0])\n",
    "    item[2] = int(float(item[2]))\n",
    "    item[3] = int(item[3])\n",
    "    item[6] = round(float(item[6]), 2)\n",
    "\n",
    "# print(insurance_list)\n",
    "\n",
    "age = []\n",
    "sex = []\n",
    "bmi = []\n",
    "children = []\n",
    "smoker = []\n",
    "region = []\n",
    "charges = []\n",
    "for i in range(len(insurance_list)):\n",
    "    age.append(insurance_list[i][0])\n",
    "    sex.append(insurance_list[i][1])\n",
    "    bmi.append(insurance_list[i][2])\n",
    "    children.append(insurance_list[i][3])\n",
    "    smoker.append(insurance_list[i][4])\n",
    "    region.append(insurance_list[i][5])\n",
    "    charges.append(insurance_list[i][6])\n",
    "\n",
    "# print(age)\n",
    "# print(sex)\n",
    "# print(bmi)\n",
    "# print(children)\n",
    "# print(smoker)\n",
    "# print(region)\n",
    "# print(charges)\n",
    "\n"
   ]
  },
  {
   "cell_type": "markdown",
   "metadata": {},
   "source": [
    "## Average Charges by Age Group\n",
    "\n",
    "* Calculate the average medical charges for different age groups. \n",
    "* This analysis can help identify patterns in healthcare expenses based on age, and it may reveal whether certain age groups have higher medical costs than others.\n",
    "\n",
    "### Investigating age groups\n",
    "1. Find the minimum, maximum and range of the age. "
   ]
  },
  {
   "cell_type": "code",
   "execution_count": 51,
   "metadata": {},
   "outputs": [
    {
     "name": "stdout",
     "output_type": "stream",
     "text": [
      "The minimum age is 18 years old.\n",
      "The maximum age is 64 years old.\n",
      "The range of the age is 46 years.\n"
     ]
    }
   ],
   "source": [
    "min_age = min(age)\n",
    "max_age = max(age)\n",
    "range_age = max_age - min_age\n",
    "\n",
    "print(\"The minimum age is \" + str(min_age) + \" years old.\")\n",
    "print(\"The maximum age is \" + str(max_age) + \" years old.\")\n",
    "print(\"The range of the age is \" + str(range_age) + \" years.\")"
   ]
  },
  {
   "cell_type": "markdown",
   "metadata": {},
   "source": [
    "2. Based on the findings, we can divide them into 5 age groups:\n",
    "    * Group I  : 15 - 25 years old\n",
    "    * Group II : 25 - 35 years old\n",
    "    * Group III: 35 - 45 years old\n",
    "    * Group IV : 45 - 55 years old\n",
    "    * Group V  : 55 - 65 years old\n",
    "    \n",
    "3. For each age added to the group, we need to add the person's respective insurance charges."
   ]
  },
  {
   "cell_type": "code",
   "execution_count": 57,
   "metadata": {},
   "outputs": [],
   "source": [
    "age_group_1 = []\n",
    "age_group_2 = []\n",
    "age_group_3 = []\n",
    "age_group_4 = []\n",
    "age_group_5 = []\n",
    "\n",
    "charge_group_1 = []\n",
    "charge_group_2 = []\n",
    "charge_group_3 = []\n",
    "charge_group_4 = []\n",
    "charge_group_5 = []\n",
    "\n",
    "for i in range(len(insurance_list)):\n",
    "    number = insurance_list[i][0]\n",
    "    charge = insurance_list[i][6]\n",
    "    if number > 15 and number <= 25:\n",
    "        age_group_1.append(number)\n",
    "        charge_group_1.append(charge)\n",
    "    if number > 25 and number <= 35:\n",
    "        age_group_2.append(number)\n",
    "        charge_group_2.append(charge)\n",
    "    if number > 35 and number <= 45:\n",
    "        age_group_3.append(number)\n",
    "        charge_group_3.append(charge)\n",
    "    if number > 45 and number <= 55:\n",
    "        age_group_4.append(number)\n",
    "        charge_group_4.append(charge)\n",
    "    if number > 55 and number <= 65:\n",
    "        age_group_5.append(number)\n",
    "        charge_group_5.append(charge)\n",
    "\n",
    "age_charge_group_1 = list(zip(age_group_1, charge_group_1))\n",
    "age_charge_group_2 = list(zip(age_group_2, charge_group_2))\n",
    "age_charge_group_3 = list(zip(age_group_3, charge_group_3))\n",
    "age_charge_group_4 = list(zip(age_group_4, charge_group_4))\n",
    "age_charge_group_5 = list(zip(age_group_5, charge_group_5))\n",
    "\n",
    "# print(age_charge_group_1)\n",
    "# print(age_charge_group_2)\n",
    "# print(age_charge_group_3)\n",
    "# print(age_charge_group_4)\n",
    "# print(age_charge_group_5)"
   ]
  },
  {
   "cell_type": "markdown",
   "metadata": {},
   "source": [
    "4. Calculate the average charge for each age group"
   ]
  },
  {
   "cell_type": "code",
   "execution_count": 72,
   "metadata": {},
   "outputs": [
    {
     "name": "stdout",
     "output_type": "stream",
     "text": [
      "Group I average charge: $9087.02\n",
      "Group II average charge: $10495.16\n",
      "Group III average charge: $13493.49\n",
      "Group IV average charge: $15986.9\n",
      "Group V average charge: $18795.99\n"
     ]
    }
   ],
   "source": [
    "total_charge_group_1 = 0\n",
    "for i in range(len(age_charge_group_1)):\n",
    "    total_charge_group_1 += age_charge_group_1[i][1]\n",
    "average_charge_group_1 = round(total_charge_group_1/len(age_charge_group_1), 2)\n",
    "print(\"Group I average charge: $\" + str(average_charge_group_1))\n",
    "\n",
    "total_charge_group_2 = 0\n",
    "for i in range(len(age_charge_group_2)):\n",
    "    total_charge_group_2 += age_charge_group_2[i][1]\n",
    "average_charge_group_2 = round(total_charge_group_2/len(age_charge_group_2), 2)\n",
    "print(\"Group II average charge: $\" + str(average_charge_group_2))\n",
    "\n",
    "total_charge_group_3 = 0\n",
    "for i in range(len(age_charge_group_3)):\n",
    "    total_charge_group_3 += age_charge_group_3[i][1]\n",
    "average_charge_group_3 = round(total_charge_group_3/len(age_charge_group_3), 2)\n",
    "print(\"Group III average charge: $\" + str(average_charge_group_3))\n",
    "\n",
    "total_charge_group_4 = 0\n",
    "for i in range(len(age_charge_group_4)):\n",
    "    total_charge_group_4 += age_charge_group_4[i][1]\n",
    "average_charge_group_4 = round(total_charge_group_4/len(age_charge_group_4), 2)\n",
    "print(\"Group IV average charge: $\" + str(average_charge_group_4))\n",
    "\n",
    "total_charge_group_5 = 0\n",
    "for i in range(len(age_charge_group_5)):\n",
    "    total_charge_group_5 += age_charge_group_5[i][1]\n",
    "average_charge_group_5 = round(total_charge_group_5/len(age_charge_group_5), 2)\n",
    "print(\"Group V average charge: $\" + str(average_charge_group_5))"
   ]
  },
  {
   "cell_type": "markdown",
   "metadata": {},
   "source": [
    "As age increases, the average charges increases."
   ]
  },
  {
   "cell_type": "markdown",
   "metadata": {},
   "source": [
    "## Charges Comparison for Smokers vs. Non-Smokers: \n",
    "* Compare the average charges between smokers and non-smokers. \n",
    "* This analysis can highlight the impact of smoking on healthcare costs and might provide valuable information for insurers in assessing risk and setting premiums."
   ]
  },
  {
   "cell_type": "code",
   "execution_count": 71,
   "metadata": {},
   "outputs": [
    {
     "name": "stdout",
     "output_type": "stream",
     "text": [
      "The average charge of smokers: $32050.23\n",
      "The average charge of non smokers: $8434.27\n"
     ]
    }
   ],
   "source": [
    "smoking_charge = []\n",
    "non_smoking_charge = []\n",
    "\n",
    "for i in range(len(insurance_list)):\n",
    "    smoke_status = insurance_list[i][4]\n",
    "    charge_amount = insurance_list[i][6]\n",
    "    if smoke_status == \"yes\":\n",
    "        smoking_charge.append(charge_amount)\n",
    "    if smoke_status == \"no\":\n",
    "        non_smoking_charge.append(charge_amount)\n",
    "\n",
    "# print(smoking_charge)\n",
    "# print(non_smoking_charge)\n",
    "\n",
    "average_smoking_charge = round(sum(smoking_charge)/len(smoking_charge), 2)\n",
    "print(\"The average charge of smokers: $\" + str(average_smoking_charge))\n",
    "average_non_smoking_charge = round(sum(non_smoking_charge)/len(non_smoking_charge), 2)\n",
    "print(\"The average charge of non smokers: $\" + str(average_non_smoking_charge))"
   ]
  },
  {
   "cell_type": "markdown",
   "metadata": {},
   "source": [
    "Average charge of smokers is higher than non-smokers."
   ]
  },
  {
   "cell_type": "markdown",
   "metadata": {},
   "source": [
    "## BMI Distribution and Average Charges\n",
    "* Examine the distribution of Body Mass Index (BMI) in the dataset and investigate how it relates to average medical charges. \n",
    "* This analysis can help insurers understand the association between weight status and healthcare expenses."
   ]
  },
  {
   "cell_type": "code",
   "execution_count": 87,
   "metadata": {},
   "outputs": [
    {
     "name": "stdout",
     "output_type": "stream",
     "text": [
      "The average underweight charge: $8748.43\n",
      "The average normal weight charge: $10448.79\n",
      "The average overweight charge: $10987.51\n",
      "The average obese charge: $14419.68\n",
      "The average extremely obese charge: $16953.82\n"
     ]
    }
   ],
   "source": [
    "# min_bmi = min(bmi)\n",
    "# max_bmi = max(bmi)\n",
    "\n",
    "# print(min_bmi)\n",
    "# print(max_bmi)\n",
    "\n",
    "underweight_charge = []\n",
    "normalweight_charge = []\n",
    "overweight_charge = []\n",
    "obese_charge = []\n",
    "extremely_obese_charge = []\n",
    "\n",
    "for i in range(len(insurance_list)):\n",
    "    bmi = insurance_list[i][2]\n",
    "    charge = insurance_list[i][6]\n",
    "    if bmi < 18.5:\n",
    "        underweight_charge.append(charge)\n",
    "    if bmi >= 18.5 and bmi < 25:\n",
    "        normalweight_charge.append(charge)\n",
    "    if bmi >= 25 and bmi < 30:\n",
    "        overweight_charge.append(charge)\n",
    "    if bmi >= 30 and bmi < 35:\n",
    "        obese_charge.append(charge)\n",
    "    if bmi >= 35:\n",
    "        extremely_obese_charge.append(charge)\n",
    "\n",
    "average_underweight_charge = round(sum(underweight_charge)/len(underweight_charge),2)\n",
    "average_normalweight_charge = round(sum(normalweight_charge)/len(normalweight_charge),2)\n",
    "average_overweight_charge = round(sum(overweight_charge)/len(overweight_charge),2)\n",
    "average_obese_charge = round(sum(obese_charge)/len(obese_charge),2)\n",
    "average_extremely_obese_charge = round(sum(extremely_obese_charge)/len(extremely_obese_charge),2)\n",
    "\n",
    "\n",
    "print(\"The average underweight charge: $\" + str(average_underweight_charge))\n",
    "print(\"The average normal weight charge: $\" + str(average_normalweight_charge))\n",
    "print(\"The average overweight charge: $\" + str(average_overweight_charge))\n",
    "print(\"The average obese charge: $\" + str(average_obese_charge))\n",
    "print(\"The average extremely obese charge: $\" + str(average_extremely_obese_charge))"
   ]
  },
  {
   "cell_type": "markdown",
   "metadata": {},
   "source": [
    "As BMI increases, the average charge increases.\n",
    "\n",
    "## Effect of Number of Children on Charges \n",
    "* Study the relationship between the number of children and medical charges. \n",
    "* This analysis can provide insights into the financial implications of having children and could be useful for families and policymakers."
   ]
  },
  {
   "cell_type": "code",
   "execution_count": 95,
   "metadata": {},
   "outputs": [
    {
     "name": "stdout",
     "output_type": "stream",
     "text": [
      "Average charge of 0 child: $12365.98\n",
      "Average charge of 1 child: $12731.17\n",
      "Average charge of 2 children: $15073.56\n",
      "Average charge of 3 children: $15355.32\n",
      "Average charge of 4 children: $13850.66\n",
      "Average charge of 5 children: $8786.04\n"
     ]
    }
   ],
   "source": [
    "min_children = min(children)\n",
    "max_children = max(children)\n",
    "# print(min_children, max_children)\n",
    "\n",
    "no_child_charge = []\n",
    "one_child_charge = []\n",
    "two_children_charge = []\n",
    "three_children_charge = []\n",
    "four_children_charge = []\n",
    "five_children_charge = []\n",
    "\n",
    "for i in range(len(insurance_list)):\n",
    "    num_child = insurance_list[i][3]\n",
    "    charge = insurance_list[i][6]\n",
    "    if num_child == 0:\n",
    "        no_child_charge.append(charge)\n",
    "    if num_child == 1:\n",
    "        one_child_charge.append(charge)\n",
    "    if num_child == 2:\n",
    "        two_children_charge.append(charge)\n",
    "    if num_child == 3:\n",
    "        three_children_charge.append(charge)\n",
    "    if num_child == 4:\n",
    "        four_children_charge.append(charge)\n",
    "    if num_child == 5:\n",
    "        five_children_charge.append(charge)\n",
    "\n",
    "# print(no_child_charge)\n",
    "# print(one_child_charge)\n",
    "# print(two_children_charge)\n",
    "# print(three_children_charge)\n",
    "# print(four_children_charge)\n",
    "# print(five_children_charge)\n",
    "\n",
    "average_no_child_charge = round(sum(no_child_charge)/len(no_child_charge),2)\n",
    "average_one_child_charge = round(sum(one_child_charge)/len(one_child_charge),2)\n",
    "average_two_children_charge = round(sum(two_children_charge)/len(two_children_charge),2)\n",
    "average_three_children_charge = round(sum(three_children_charge)/len(three_children_charge),2)\n",
    "average_four_children_charge = round(sum(four_children_charge)/len(four_children_charge),2)\n",
    "average_five_children_charge = round(sum(five_children_charge)/len(five_children_charge),2)\n",
    "\n",
    "print(\"Average charge of 0 child: $\" + str(average_no_child_charge))\n",
    "print(\"Average charge of 1 child: $\" + str(average_one_child_charge))\n",
    "print(\"Average charge of 2 children: $\" + str(average_two_children_charge))\n",
    "print(\"Average charge of 3 children: $\" + str(average_three_children_charge))\n",
    "print(\"Average charge of 4 children: $\" + str(average_four_children_charge))\n",
    "print(\"Average charge of 5 children: $\" + str(average_five_children_charge))"
   ]
  },
  {
   "cell_type": "markdown",
   "metadata": {},
   "source": [
    "The highest average charge is 3 children and the lowest average charge is 5 children."
   ]
  },
  {
   "cell_type": "markdown",
   "metadata": {},
   "source": [
    "## Geographical Variation in Charges\n",
    "* Analyze the average medical charges across different regions. \n",
    "* This analysis can reveal regional disparities in healthcare costs, possibly due to differences in healthcare infrastructure, accessibility, or lifestyle factors."
   ]
  },
  {
   "cell_type": "code",
   "execution_count": 103,
   "metadata": {},
   "outputs": [
    {
     "name": "stdout",
     "output_type": "stream",
     "text": [
      "Average charge of North-East region: $13406.38\n",
      "Average charge of North-West region: $12417.58\n",
      "Average charge of South-East region: $14735.41\n",
      "Average charge of South-West region: $12346.94\n"
     ]
    }
   ],
   "source": [
    "northeast_charge = []\n",
    "northwest_charge = []\n",
    "southeast_charge = []\n",
    "southwest_charge = []\n",
    "\n",
    "for i in range(len(insurance_list)):\n",
    "    region = insurance_list[i][5]\n",
    "    charge = insurance_list[i][6]\n",
    "    if region == \"northeast\":\n",
    "        northeast_charge.append(charge)\n",
    "    if region == \"northwest\":\n",
    "        northwest_charge.append(charge)\n",
    "    if region == \"southeast\":\n",
    "        southeast_charge.append(charge)\n",
    "    if region == \"southwest\":\n",
    "        southwest_charge.append(charge)\n",
    "        \n",
    "# print(northeast_charge)\n",
    "# print(northwest_charge)\n",
    "# print(southeast_charge)\n",
    "# print(southwest_charge)\n",
    "\n",
    "average_charge_northeast = round(sum(northeast_charge)/len(northeast_charge),2)\n",
    "average_charge_northwest = round(sum(northwest_charge)/len(northwest_charge),2)\n",
    "average_charge_southeast = round(sum(southeast_charge)/len(southeast_charge),2)\n",
    "average_charge_southwest = round(sum(southwest_charge)/len(southwest_charge),2)\n",
    "\n",
    "print(\"Average charge of North-East region: $\" + str(average_charge_northeast))\n",
    "print(\"Average charge of North-West region: $\" + str(average_charge_northwest))\n",
    "print(\"Average charge of South-East region: $\" + str(average_charge_southeast))\n",
    "print(\"Average charge of South-West region: $\" + str(average_charge_southwest))"
   ]
  },
  {
   "cell_type": "markdown",
   "metadata": {},
   "source": [
    "South-East region has the highest average charge and South-West region has the lowest average charge."
   ]
  },
  {
   "cell_type": "markdown",
   "metadata": {},
   "source": [
    "## Gender-based Charges Comparison\n",
    "* Compare the average charges for males and females to identify if there are any gender-based disparities in healthcare costs."
   ]
  },
  {
   "cell_type": "code",
   "execution_count": 107,
   "metadata": {},
   "outputs": [
    {
     "name": "stdout",
     "output_type": "stream",
     "text": [
      "Average male charge: $13956.75\n",
      "Average female charge: $12569.58\n"
     ]
    }
   ],
   "source": [
    "male_charge = []\n",
    "female_charge = []\n",
    "\n",
    "for i in range(len(insurance_list)):\n",
    "    sex = insurance_list[i][1]\n",
    "    charge = insurance_list[i][6]\n",
    "    if sex == \"male\":\n",
    "        male_charge.append(charge)\n",
    "    if sex == \"female\":\n",
    "        female_charge.append(charge)\n",
    "        \n",
    "average_male_charge = round(sum(male_charge)/len(male_charge),2)\n",
    "average_female_charge = round(sum(female_charge)/len(female_charge),2)\n",
    "\n",
    "print(\"Average male charge: $\" + str(average_male_charge))\n",
    "print(\"Average female charge: $\" + str(average_female_charge))"
   ]
  },
  {
   "cell_type": "markdown",
   "metadata": {},
   "source": [
    "Average charge of males is higher than females. "
   ]
  }
 ],
 "metadata": {
  "kernelspec": {
   "display_name": "Python 3 (ipykernel)",
   "language": "python",
   "name": "python3"
  },
  "language_info": {
   "codemirror_mode": {
    "name": "ipython",
    "version": 3
   },
   "file_extension": ".py",
   "mimetype": "text/x-python",
   "name": "python",
   "nbconvert_exporter": "python",
   "pygments_lexer": "ipython3",
   "version": "3.10.9"
  }
 },
 "nbformat": 4,
 "nbformat_minor": 4
}
